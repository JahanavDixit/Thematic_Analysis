{
 "cells": [
  {
   "cell_type": "markdown",
   "metadata": {},
   "source": [
    "# Topic Modelling"
   ]
  },
  {
   "cell_type": "markdown",
   "metadata": {},
   "source": [
    "## LDA - Latent Drichilet Allocation"
   ]
  },
  {
   "cell_type": "markdown",
   "metadata": {},
   "source": [
    "**Dependenices**"
   ]
  },
  {
   "cell_type": "code",
   "execution_count": 7,
   "metadata": {},
   "outputs": [],
   "source": [
    "#Dependencies\n",
    "import pandas as pd\n",
    "import gensim #the library for Topic modelling\n",
    "from gensim.models.ldamulticore import LdaMulticore\n",
    "from gensim import corpora, models\n",
    "import pyLDAvis.gensim #LDA visualization library\n",
    "\n",
    "from nltk.corpus import stopwords\n",
    "import string\n",
    "from nltk.stem.wordnet import WordNetLemmatizer\n",
    "\n",
    "import warnings\n",
    "warnings.simplefilter('ignore')\n",
    "from itertools import chain"
   ]
  },
  {
   "cell_type": "markdown",
   "metadata": {},
   "source": [
    "**Read News articles pickle file**"
   ]
  },
  {
   "cell_type": "code",
   "execution_count": 38,
   "metadata": {},
   "outputs": [],
   "source": [
    "df = pd.read_csv('moreshuffled.csv')\n",
    "res = df.values.tolist()\n",
    "main_ls = []\n",
    "for l in res:\n",
    "    for a in l:\n",
    "        main_ls.append(a)"
   ]
  },
  {
   "cell_type": "code",
   "execution_count": 40,
   "metadata": {},
   "outputs": [
    {
     "data": {
      "text/plain": [
       "0      Yes, the implementation of DaaS and VDI in the...\n",
       "1      Yes, using DaaS and VDI can improve PO users' ...\n",
       "2      Yes, using the DaaS and VDI in the PO job defi...\n",
       "3      Yes, using the DaaS and VDI can enhance PO use...\n",
       "4      Using DaaS and VDI can make it easier for PO u...\n",
       "                             ...                        \n",
       "379    Generally, PO users find it relatively easy to...\n",
       "380    Yes, PO users' interaction with DaaS and VDI i...\n",
       "381    Yes, PO employees find DaaS and VDI flexible t...\n",
       "382    It is possible for PO users to become skillful...\n",
       "383     Yes, PO (Point of Sale) users can find DaaS (...\n",
       "Name: text, Length: 384, dtype: object"
      ]
     },
     "execution_count": 40,
     "metadata": {},
     "output_type": "execute_result"
    }
   ],
   "source": [
    "temp = dict({'text':main_ls})\n",
    "df2 = pd.DataFrame(temp)\n",
    "df2['text']"
   ]
  },
  {
   "cell_type": "markdown",
   "metadata": {},
   "source": [
    "**Clean the data**"
   ]
  },
  {
   "cell_type": "code",
   "execution_count": 45,
   "metadata": {},
   "outputs": [
    {
     "name": "stderr",
     "output_type": "stream",
     "text": [
      "[nltk_data] Downloading package wordnet to\n",
      "[nltk_data]     C:\\Users\\jahan\\AppData\\Roaming\\nltk_data...\n"
     ]
    }
   ],
   "source": [
    "#clean the data\n",
    "import nltk\n",
    "nltk.download('wordnet')\n",
    "stop = set(stopwords.words('english'))\n",
    "exclude = set(string.punctuation)\n",
    "lemma = WordNetLemmatizer()\n",
    "\n",
    "def clean(text):\n",
    "    stop_free = ' '.join([word for word in text.lower().split() if word not in stop])\n",
    "    punc_free = ''.join(ch for ch in stop_free if ch not in exclude)\n",
    "    normalized = ' '.join([lemma.lemmatize(word) for word in punc_free.split()])\n",
    "    return normalized.split()"
   ]
  },
  {
   "cell_type": "code",
   "execution_count": 46,
   "metadata": {},
   "outputs": [],
   "source": [
    "df2['text_clean']=df2['text'].apply(clean)"
   ]
  },
  {
   "cell_type": "code",
   "execution_count": 102,
   "metadata": {},
   "outputs": [],
   "source": [
    "from nltk import pos_tag\n",
    "df = df2\n",
    "stop_words = set(stopwords.words('english'))\n",
    "\n",
    "# Function to filter out unnecessary keywords\n",
    "def filter_unnecessary_keywords(words_list):\n",
    "    # POS tagging to keep only adjectives (JJ)\n",
    "    words_with_pos = pos_tag(words_list)\n",
    "    return [word for word, pos in words_with_pos if pos.startswith('JJ') and word not in stop_words]\n",
    "\n",
    "# Apply the filtering to the 'text_clean' column\n",
    "df['text_clean'] = df['text_clean'].apply(filter_unnecessary_keywords)\n"
   ]
  },
  {
   "cell_type": "code",
   "execution_count": 101,
   "metadata": {},
   "outputs": [
    {
     "name": "stderr",
     "output_type": "stream",
     "text": [
      "[nltk_data] Downloading package averaged_perceptron_tagger to\n",
      "[nltk_data]     C:\\Users\\jahan\\AppData\\Roaming\\nltk_data...\n",
      "[nltk_data]   Unzipping taggers\\averaged_perceptron_tagger.zip.\n"
     ]
    },
    {
     "data": {
      "text/plain": [
       "True"
      ]
     },
     "execution_count": 101,
     "metadata": {},
     "output_type": "execute_result"
    }
   ],
   "source": [
    "import nltk\n",
    "nltk.download('averaged_perceptron_tagger')\n"
   ]
  },
  {
   "cell_type": "code",
   "execution_count": 103,
   "metadata": {},
   "outputs": [
    {
     "data": {
      "text/html": [
       "<div>\n",
       "<style scoped>\n",
       "    .dataframe tbody tr th:only-of-type {\n",
       "        vertical-align: middle;\n",
       "    }\n",
       "\n",
       "    .dataframe tbody tr th {\n",
       "        vertical-align: top;\n",
       "    }\n",
       "\n",
       "    .dataframe thead th {\n",
       "        text-align: right;\n",
       "    }\n",
       "</style>\n",
       "<table border=\"1\" class=\"dataframe\">\n",
       "  <thead>\n",
       "    <tr style=\"text-align: right;\">\n",
       "      <th></th>\n",
       "      <th>text</th>\n",
       "      <th>text_clean</th>\n",
       "    </tr>\n",
       "  </thead>\n",
       "  <tbody>\n",
       "    <tr>\n",
       "      <th>0</th>\n",
       "      <td>Yes, the implementation of DaaS and VDI in the...</td>\n",
       "      <td>[enable, accomplish, local, deployed, provided...</td>\n",
       "    </tr>\n",
       "    <tr>\n",
       "      <th>1</th>\n",
       "      <td>Yes, using DaaS and VDI can improve PO users' ...</td>\n",
       "      <td>[efficient, present, cloud, multiple, bulky, l...</td>\n",
       "    </tr>\n",
       "    <tr>\n",
       "      <th>2</th>\n",
       "      <td>Yes, using the DaaS and VDI in the PO job defi...</td>\n",
       "      <td>[increase, able, fewer, complete, potential, v...</td>\n",
       "    </tr>\n",
       "    <tr>\n",
       "      <th>3</th>\n",
       "      <td>Yes, using the DaaS and VDI can enhance PO use...</td>\n",
       "      <td>[users’, cloud, virtual, better, physical]</td>\n",
       "    </tr>\n",
       "    <tr>\n",
       "      <th>4</th>\n",
       "      <td>Using DaaS and VDI can make it easier for PO u...</td>\n",
       "      <td>[easier, desktop, large, easier, easier, recen...</td>\n",
       "    </tr>\n",
       "    <tr>\n",
       "      <th>...</th>\n",
       "      <td>...</td>\n",
       "      <td>...</td>\n",
       "    </tr>\n",
       "    <tr>\n",
       "      <th>379</th>\n",
       "      <td>Generally, PO users find it relatively easy to...</td>\n",
       "      <td>[easy, want, wide, allow, remote, cloudbased, ...</td>\n",
       "    </tr>\n",
       "    <tr>\n",
       "      <th>380</th>\n",
       "      <td>Yes, PO users' interaction with DaaS and VDI i...</td>\n",
       "      <td>[clear, understandable, professional, assist, ...</td>\n",
       "    </tr>\n",
       "    <tr>\n",
       "      <th>381</th>\n",
       "      <td>Yes, PO employees find DaaS and VDI flexible t...</td>\n",
       "      <td>[flexible, interact, cloudbased, remote, physi...</td>\n",
       "    </tr>\n",
       "    <tr>\n",
       "      <th>382</th>\n",
       "      <td>It is possible for PO users to become skillful...</td>\n",
       "      <td>[possible, skillful, technical, right, comfort...</td>\n",
       "    </tr>\n",
       "    <tr>\n",
       "      <th>383</th>\n",
       "      <td>Yes, PO (Point of Sale) users can find DaaS (...</td>\n",
       "      <td>[desktop, virtual, easy, due, simple, cloudbas...</td>\n",
       "    </tr>\n",
       "  </tbody>\n",
       "</table>\n",
       "<p>384 rows × 2 columns</p>\n",
       "</div>"
      ],
      "text/plain": [
       "                                                  text  \\\n",
       "0    Yes, the implementation of DaaS and VDI in the...   \n",
       "1    Yes, using DaaS and VDI can improve PO users' ...   \n",
       "2    Yes, using the DaaS and VDI in the PO job defi...   \n",
       "3    Yes, using the DaaS and VDI can enhance PO use...   \n",
       "4    Using DaaS and VDI can make it easier for PO u...   \n",
       "..                                                 ...   \n",
       "379  Generally, PO users find it relatively easy to...   \n",
       "380  Yes, PO users' interaction with DaaS and VDI i...   \n",
       "381  Yes, PO employees find DaaS and VDI flexible t...   \n",
       "382  It is possible for PO users to become skillful...   \n",
       "383   Yes, PO (Point of Sale) users can find DaaS (...   \n",
       "\n",
       "                                            text_clean  \n",
       "0    [enable, accomplish, local, deployed, provided...  \n",
       "1    [efficient, present, cloud, multiple, bulky, l...  \n",
       "2    [increase, able, fewer, complete, potential, v...  \n",
       "3           [users’, cloud, virtual, better, physical]  \n",
       "4    [easier, desktop, large, easier, easier, recen...  \n",
       "..                                                 ...  \n",
       "379  [easy, want, wide, allow, remote, cloudbased, ...  \n",
       "380  [clear, understandable, professional, assist, ...  \n",
       "381  [flexible, interact, cloudbased, remote, physi...  \n",
       "382  [possible, skillful, technical, right, comfort...  \n",
       "383  [desktop, virtual, easy, due, simple, cloudbas...  \n",
       "\n",
       "[384 rows x 2 columns]"
      ]
     },
     "execution_count": 103,
     "metadata": {},
     "output_type": "execute_result"
    }
   ],
   "source": [
    "df"
   ]
  },
  {
   "cell_type": "markdown",
   "metadata": {},
   "source": [
    "**Dataframe after cleaning**"
   ]
  },
  {
   "cell_type": "code",
   "execution_count": 86,
   "metadata": {},
   "outputs": [
    {
     "name": "stdout",
     "output_type": "stream",
     "text": [
      "                                                  text  \\\n",
      "0    Yes, the implementation of DaaS and VDI in the...   \n",
      "1    Yes, using DaaS and VDI can improve PO users' ...   \n",
      "2    Yes, using the DaaS and VDI in the PO job defi...   \n",
      "3    Yes, using the DaaS and VDI can enhance PO use...   \n",
      "4    Using DaaS and VDI can make it easier for PO u...   \n",
      "..                                                 ...   \n",
      "379  Generally, PO users find it relatively easy to...   \n",
      "380  Yes, PO users' interaction with DaaS and VDI i...   \n",
      "381  Yes, PO employees find DaaS and VDI flexible t...   \n",
      "382  It is possible for PO users to become skillful...   \n",
      "383   Yes, PO (Point of Sale) users can find DaaS (...   \n",
      "\n",
      "                                            text_clean  \n",
      "0    [implementation, enable, accomplish, task, qui...  \n",
      "1    [improve, performance, utilizing, access, reso...  \n",
      "2    [definitely, increase, productivity, virtualiz...  \n",
      "3    [enhance, users’, effectiveness, significantly...  \n",
      "4    [make, easier, simplifies, process, setting, m...  \n",
      "..                                                 ...  \n",
      "379  [generally, find, relatively, easy, get, want,...  \n",
      "380  [interaction, generally, clear, understandable...  \n",
      "381  [employee, find, flexible, interact, provide, ...  \n",
      "382  [possible, become, skillful, depending, techni...  \n",
      "383  [point, sale, find, desktop, service, virtual,...  \n",
      "\n",
      "[384 rows x 2 columns]\n"
     ]
    }
   ],
   "source": [
    "df2\n",
    "df = df2\n",
    "keywords_to_remove = ['daas', 'vdi', 'po', 'user', 'yes', 'no', 'data', 'may','use','using','job','application']\n",
    "\n",
    "# Function to remove the keywords from each row in the 'text_clean' column\n",
    "def remove_keywords(row):\n",
    "    return [word for word in row if word not in keywords_to_remove]\n",
    "\n",
    "# Apply the function to the 'text_clean' column\n",
    "df['text_clean'] = df['text_clean'].apply(remove_keywords)\n",
    "print(df)"
   ]
  },
  {
   "cell_type": "markdown",
   "metadata": {},
   "source": [
    "**Create Dictionary from the articles**"
   ]
  },
  {
   "cell_type": "code",
   "execution_count": 110,
   "metadata": {},
   "outputs": [
    {
     "name": "stdout",
     "output_type": "stream",
     "text": [
      "3356\n"
     ]
    }
   ],
   "source": [
    "#create dictionary\n",
    "dictionary = corpora.Dictionary(df['text_clean'])\n",
    "#Total number of non-zeroes in the BOW matrix (sum of the number of unique words per document over the entire corpus).\n",
    "print(dictionary.num_nnz)"
   ]
  },
  {
   "cell_type": "markdown",
   "metadata": {},
   "source": [
    "**Create document term matrix**"
   ]
  },
  {
   "cell_type": "code",
   "execution_count": 111,
   "metadata": {},
   "outputs": [
    {
     "name": "stdout",
     "output_type": "stream",
     "text": [
      "384\n"
     ]
    }
   ],
   "source": [
    "#create document term matrix\n",
    "doc_term_matrix = [dictionary.doc2bow(doc) for doc in df['text_clean'] ]\n",
    "print(len(doc_term_matrix))"
   ]
  },
  {
   "cell_type": "markdown",
   "metadata": {},
   "source": [
    "**Instantiate LDA model**"
   ]
  },
  {
   "cell_type": "code",
   "execution_count": 112,
   "metadata": {},
   "outputs": [],
   "source": [
    "lda = gensim.models.ldamodel.LdaModel"
   ]
  },
  {
   "cell_type": "markdown",
   "metadata": {},
   "source": [
    "**Fit LDA model on the dataset**"
   ]
  },
  {
   "cell_type": "code",
   "execution_count": 113,
   "metadata": {},
   "outputs": [
    {
     "name": "stdout",
     "output_type": "stream",
     "text": [
      "CPU times: total: 3.58 s\n",
      "Wall time: 6.43 s\n"
     ]
    }
   ],
   "source": [
    "num_topics=2\n",
    "%time ldamodel = lda(doc_term_matrix,num_topics=num_topics,id2word=dictionary,passes=50,minimum_probability=0)"
   ]
  },
  {
   "cell_type": "markdown",
   "metadata": {},
   "source": [
    "**Print the topics identified by LDA model**"
   ]
  },
  {
   "cell_type": "code",
   "execution_count": 114,
   "metadata": {},
   "outputs": [
    {
     "data": {
      "text/plain": [
       "[(0,\n",
       "  '0.070*\"easier\" + 0.027*\"easy\" + 0.026*\"virtual\" + 0.023*\"flexible\" + 0.023*\"physical\" + 0.019*\"due\" + 0.018*\"efficient\" + 0.018*\"users’\" + 0.017*\"reliable\" + 0.017*\"productive\"'),\n",
       " (1,\n",
       "  '0.053*\"difficult\" + 0.049*\"easy\" + 0.046*\"new\" + 0.027*\"technical\" + 0.024*\"many\" + 0.024*\"traditional\" + 0.019*\"additional\" + 0.017*\"clear\" + 0.017*\"certain\" + 0.017*\"intuitive\"')]"
      ]
     },
     "execution_count": 114,
     "metadata": {},
     "output_type": "execute_result"
    }
   ],
   "source": [
    "ldamodel.print_topics(num_topics=num_topics)"
   ]
  },
  {
   "cell_type": "markdown",
   "metadata": {},
   "source": [
    "**Visualize the LDA model results**"
   ]
  },
  {
   "cell_type": "code",
   "execution_count": 115,
   "metadata": {},
   "outputs": [
    {
     "data": {
      "text/html": [
       "\n",
       "<link rel=\"stylesheet\" type=\"text/css\" href=\"https://cdn.jsdelivr.net/gh/bmabey/pyLDAvis@3.4.0/pyLDAvis/js/ldavis.v1.0.0.css\">\n",
       "\n",
       "\n",
       "<div id=\"ldavis_el1443223348000118721592789953\" style=\"background-color:white;\"></div>\n",
       "<script type=\"text/javascript\">\n",
       "\n",
       "var ldavis_el1443223348000118721592789953_data = {\"mdsDat\": {\"x\": [-0.045735712976011, 0.045735712976011], \"y\": [0.14437614791869302, -0.14437614791869302], \"topics\": [1, 2], \"cluster\": [1, 1], \"Freq\": [43.82979745070427, 56.17020254929572]}, \"tinfo\": {\"Term\": [\"easier\", \"difficult\", \"new\", \"technical\", \"flexible\", \"physical\", \"reliable\", \"productive\", \"multiple\", \"secure\", \"additional\", \"costeffective\", \"provide\", \"clear\", \"many\", \"efficient\", \"understandable\", \"certain\", \"skillful\", \"complex\", \"greater\", \"familiar\", \"enhanced\", \"accomplish\", \"comfortable\", \"interact\", \"desktop\", \"allow\", \"need\", \"safe\", \"flexible\", \"reliable\", \"costeffective\", \"multiple\", \"secure\", \"provide\", \"physical\", \"enhanced\", \"productive\", \"easier\", \"greater\", \"interact\", \"safe\", \"allow\", \"internet\", \"update\", \"latest\", \"upgrade\", \"costly\", \"fewer\", \"anywhere\", \"malicious\", \"high\", \"regardless\", \"mean\", \"ideal\", \"scale\", \"solution\", \"anytime\", \"unauthorized\", \"need\", \"efficient\", \"better\", \"desktop\", \"complete\", \"virtual\", \"helpful\", \"overall\", \"increased\", \"due\", \"users\\u2019\", \"cloud\", \"remote\", \"easy\", \"specific\", \"traditional\", \"able\", \"technical\", \"difficult\", \"clear\", \"understandable\", \"skillful\", \"complex\", \"comfortable\", \"additional\", \"accomplish\", \"certain\", \"right\", \"new\", \"familiar\", \"significant\", \"level\", \"operate\", \"tutorial\", \"learn\", \"understand\", \"lead\", \"possible\", \"slow\", \"proficient\", \"particular\", \"steep\", \"understanding\", \"troubleshoot\", \"prohibitive\", \"basic\", \"extensive\", \"many\", \"different\", \"intuitive\", \"easy\", \"important\", \"traditional\", \"enable\", \"best\", \"individual\", \"available\", \"users\\u2019\", \"due\", \"able\", \"virtual\", \"specific\"], \"Freq\": [114.0, 108.0, 96.0, 56.0, 37.0, 37.0, 28.0, 28.0, 25.0, 25.0, 39.0, 24.0, 24.0, 36.0, 52.0, 31.0, 34.0, 36.0, 31.0, 30.0, 20.0, 29.0, 17.0, 27.0, 26.0, 17.0, 25.0, 16.0, 19.0, 14.0, 37.21409502446816, 27.53881578977303, 24.08521791260587, 24.869184621783305, 24.8637493997683, 24.003938398739432, 36.81803301849071, 17.087041786252783, 27.33691695883722, 111.86574898203908, 19.59551593964453, 16.98641568305935, 13.546009542657785, 16.08408092338729, 12.65061184266278, 11.805738762665296, 8.323777310525628, 8.247854797962633, 7.41749426731745, 6.558530284850958, 6.539369190354242, 6.536733524854091, 8.967101690391452, 6.51730499001974, 7.329712749922092, 5.6701664892235115, 5.64214224314736, 4.82088809324662, 4.82048954009722, 4.819980360512892, 17.591422343686684, 28.47172218336119, 10.226074472453197, 22.252780785615457, 15.28091363687778, 41.251621687853024, 23.30430851581188, 17.855017202149767, 8.958511566343335, 30.254400508368263, 28.39790865017381, 17.764799668308537, 16.857254664287115, 42.40837340916457, 17.5660952222412, 25.51078665607639, 15.070009739642984, 55.78794234731298, 108.06103680834677, 35.532151706056645, 33.76988168265246, 31.167819173113124, 30.24412725166432, 25.89717988846433, 38.73443696231528, 26.666097018673057, 35.21535018786139, 19.711937469624193, 94.19570996526775, 28.228850977094112, 17.09630860851673, 14.441517767020484, 18.67784160531534, 11.822779433213695, 10.09662206388523, 13.462049142006254, 14.247408193869187, 14.233806518232937, 9.194984772103933, 8.341510415150845, 9.169956237782328, 8.331860261621596, 8.330213396283453, 8.329384712739389, 15.80626695775133, 7.468627869525803, 7.465178522008868, 49.641459023544115, 34.371444834551326, 35.06108520884773, 99.88668083825613, 17.53635675509592, 48.26326281931313, 25.093173547450895, 11.93213892930277, 20.045656352336493, 18.43595957149427, 23.394589954757944, 23.291672804930776, 18.29534495804859, 21.937252562659854, 14.91435142234007], \"Total\": [114.0, 108.0, 96.0, 56.0, 37.0, 37.0, 28.0, 28.0, 25.0, 25.0, 39.0, 24.0, 24.0, 36.0, 52.0, 31.0, 34.0, 36.0, 31.0, 30.0, 20.0, 29.0, 17.0, 27.0, 26.0, 17.0, 25.0, 16.0, 19.0, 14.0, 37.70794864840585, 28.06199919034755, 24.554299340391985, 25.431360721697175, 25.43135430773271, 24.554432972530872, 37.708795509489136, 17.539018787100293, 28.062419735280788, 114.88178999853093, 20.169938392756585, 17.539141759383973, 14.031410242398739, 16.662299818787, 13.154528708852043, 12.277582299869358, 8.769929748454652, 8.770057060611245, 7.893039850397398, 7.016119068841743, 7.016136825084836, 7.016136144125714, 9.647182548421238, 7.01616848572033, 7.893181877802539, 6.1392189178591074, 6.13926817657814, 5.262294575550092, 5.262295655755844, 5.262294677334015, 19.295572579898696, 31.57562990989867, 11.402194690804794, 25.437460574057063, 17.543147154624172, 63.18887425051288, 32.46683810694759, 25.44787886455785, 10.526203017989054, 53.54607331329904, 51.79249860493175, 28.085041222795507, 26.329214499835004, 142.2950542474207, 32.48044664458127, 73.77404947538952, 33.36535469769157, 56.253839292415954, 108.99194363843561, 36.036987666335676, 34.2789985972915, 31.6421477522034, 30.76301123270084, 26.36822724838431, 39.55213458407698, 27.246863732625762, 36.03619637950336, 20.215206222075086, 96.68239033849926, 29.00435541583888, 17.57830435381861, 14.941282464393016, 19.335838467952644, 12.304388777512434, 10.546521197315121, 14.062041994702138, 14.940791780498722, 14.940708552778691, 9.667447228504024, 8.788553328609941, 9.667379668201868, 8.78851668677178, 8.788511385497706, 8.788508768539701, 16.6982721137419, 7.90958921578064, 7.909576877017868, 52.731533779545785, 38.66485528415731, 39.54338787497463, 142.2950542474207, 21.08684141296414, 73.77404947538952, 34.258324864810014, 14.05831941187077, 31.615675883262888, 29.858056287260275, 51.79249860493175, 53.54607331329904, 33.36535469769157, 63.18887425051288, 32.48044664458127], \"Category\": [\"Default\", \"Default\", \"Default\", \"Default\", \"Default\", \"Default\", \"Default\", \"Default\", \"Default\", \"Default\", \"Default\", \"Default\", \"Default\", \"Default\", \"Default\", \"Default\", \"Default\", \"Default\", \"Default\", \"Default\", \"Default\", \"Default\", \"Default\", \"Default\", \"Default\", \"Default\", \"Default\", \"Default\", \"Default\", \"Default\", \"Topic1\", \"Topic1\", \"Topic1\", \"Topic1\", \"Topic1\", \"Topic1\", \"Topic1\", \"Topic1\", \"Topic1\", \"Topic1\", \"Topic1\", \"Topic1\", \"Topic1\", \"Topic1\", \"Topic1\", \"Topic1\", \"Topic1\", \"Topic1\", \"Topic1\", \"Topic1\", \"Topic1\", \"Topic1\", \"Topic1\", \"Topic1\", \"Topic1\", \"Topic1\", \"Topic1\", \"Topic1\", \"Topic1\", \"Topic1\", \"Topic1\", \"Topic1\", \"Topic1\", \"Topic1\", \"Topic1\", \"Topic1\", \"Topic1\", \"Topic1\", \"Topic1\", \"Topic1\", \"Topic1\", \"Topic1\", \"Topic1\", \"Topic1\", \"Topic1\", \"Topic1\", \"Topic1\", \"Topic2\", \"Topic2\", \"Topic2\", \"Topic2\", \"Topic2\", \"Topic2\", \"Topic2\", \"Topic2\", \"Topic2\", \"Topic2\", \"Topic2\", \"Topic2\", \"Topic2\", \"Topic2\", \"Topic2\", \"Topic2\", \"Topic2\", \"Topic2\", \"Topic2\", \"Topic2\", \"Topic2\", \"Topic2\", \"Topic2\", \"Topic2\", \"Topic2\", \"Topic2\", \"Topic2\", \"Topic2\", \"Topic2\", \"Topic2\", \"Topic2\", \"Topic2\", \"Topic2\", \"Topic2\", \"Topic2\", \"Topic2\", \"Topic2\", \"Topic2\", \"Topic2\", \"Topic2\", \"Topic2\", \"Topic2\", \"Topic2\", \"Topic2\", \"Topic2\"], \"logprob\": [30.0, 29.0, 28.0, 27.0, 26.0, 25.0, 24.0, 23.0, 22.0, 21.0, 20.0, 19.0, 18.0, 17.0, 16.0, 15.0, 14.0, 13.0, 12.0, 11.0, 10.0, 9.0, 8.0, 7.0, 6.0, 5.0, 4.0, 3.0, 2.0, 1.0, -3.7609, -4.062, -4.196, -4.164, -4.1642, -4.1994, -3.7716, -4.5393, -4.0694, -2.6603, -4.4023, -4.5452, -4.7715, -4.5998, -4.8399, -4.909, -5.2585, -5.2677, -5.3738, -5.4969, -5.4998, -5.5002, -5.1841, -5.5032, -5.3857, -5.6424, -5.6474, -5.8047, -5.8048, -5.8049, -4.5102, -4.0287, -5.0527, -4.2752, -4.651, -3.6579, -4.229, -4.4953, -5.185, -3.968, -4.0313, -4.5004, -4.5528, -3.6303, -4.5117, -4.1385, -4.6649, -3.6041, -2.943, -4.0553, -4.1061, -4.1863, -4.2164, -4.3716, -3.969, -4.3423, -4.0642, -4.6445, -3.0803, -4.2854, -4.7868, -4.9556, -4.6984, -5.1557, -5.3135, -5.0258, -4.9691, -4.9701, -5.407, -5.5045, -5.4098, -5.5056, -5.5058, -5.5059, -4.8653, -5.615, -5.6154, -3.7209, -4.0885, -4.0686, -3.0217, -4.7614, -3.749, -4.4031, -5.1465, -4.6277, -4.7114, -4.4732, -4.4776, -4.7191, -4.5375, -4.9234], \"loglift\": [30.0, 29.0, 28.0, 27.0, 26.0, 25.0, 24.0, 23.0, 22.0, 21.0, 20.0, 19.0, 18.0, 17.0, 16.0, 15.0, 14.0, 13.0, 12.0, 11.0, 10.0, 9.0, 8.0, 7.0, 6.0, 5.0, 4.0, 3.0, 2.0, 1.0, 0.8117, 0.806, 0.8056, 0.8025, 0.8023, 0.8022, 0.801, 0.7987, 0.7987, 0.7983, 0.796, 0.7928, 0.7896, 0.7895, 0.7858, 0.7857, 0.7726, 0.7635, 0.7627, 0.7574, 0.7545, 0.7541, 0.7518, 0.7511, 0.7508, 0.7454, 0.7404, 0.7372, 0.7372, 0.7371, 0.7324, 0.7214, 0.716, 0.6911, 0.6868, 0.3984, 0.4933, 0.4705, 0.6636, 0.254, 0.2239, 0.3668, 0.379, -0.3857, 0.2102, -0.237, 0.03, 0.5685, 0.5682, 0.5627, 0.5618, 0.5617, 0.5598, 0.5588, 0.5559, 0.5552, 0.5537, 0.5516, 0.5507, 0.5497, 0.549, 0.5428, 0.5422, 0.5369, 0.5332, 0.5332, 0.5293, 0.5283, 0.5267, 0.5246, 0.524, 0.5234, 0.5232, 0.5231, 0.5219, 0.5194, 0.519, 0.5164, 0.4591, 0.4565, 0.2229, 0.3924, 0.1524, 0.2655, 0.4128, 0.1211, 0.0946, -0.218, -0.2557, -0.0241, -0.4812, -0.2015]}, \"token.table\": {\"Topic\": [1, 2, 1, 2, 1, 2, 1, 2, 1, 1, 1, 2, 2, 1, 2, 1, 2, 1, 2, 1, 2, 1, 2, 2, 1, 2, 1, 2, 1, 1, 1, 2, 1, 2, 1, 2, 1, 2, 1, 2, 1, 2, 1, 2, 1, 2, 1, 2, 1, 2, 1, 1, 1, 2, 1, 2, 1, 2, 1, 1, 2, 1, 2, 1, 2, 1, 2, 1, 2, 1, 2, 1, 1, 2, 2, 2, 1, 1, 2, 1, 2, 1, 2, 1, 2, 1, 2, 1, 2, 1, 2, 2, 1, 2, 1, 2, 1, 2, 2, 1, 2, 1, 2, 1, 1, 2, 1, 2, 1, 2, 1, 1, 1, 2, 2, 2, 2, 1, 1, 2, 2, 2, 1, 2, 2, 2, 1, 1, 2, 1, 2, 2, 1, 1, 2, 1, 2, 1, 2], \"Freq\": [0.4495681264565665, 0.5394817517478798, 0.036701471766183, 0.990939737686941, 0.02528308548996956, 0.9860403341088129, 0.9602515963588503, 0.06001572477242814, 0.9501556596370734, 0.9977000412781087, 0.3684097817409983, 0.6028523701216336, 0.8850017123562001, 0.14226451550895983, 0.8535870930537589, 0.8770241406300856, 0.08770241406300856, 0.027749876526058096, 0.9712456784120334, 0.027749267204543855, 0.9989736193635788, 0.6409105778840772, 0.3560614321578207, 0.9860351913340373, 0.8550347248296423, 0.11400462997728562, 0.03250657071363052, 0.9751971214089157, 0.9774255688298074, 0.8868572986677072, 0.8648662053332937, 0.11793630072726732, 0.10345312223731445, 0.8793515390171729, 0.009174990064562474, 0.9908989269727473, 0.5602651724706209, 0.42953663222747607, 0.9749151715117967, 0.026113799236923127, 0.2951613478214849, 0.7027651138606783, 0.8867598233162169, 0.09500998106959467, 0.262709867908479, 0.7297496330791083, 0.9692674491290965, 0.8850030929390494, 0.0344775805448141, 0.9653722552547948, 0.9977025662358943, 0.9812254796725522, 0.9915746697165118, 0.04957873348582559, 0.7084151503831911, 0.27720592841081393, 0.9329148645034037, 0.10365720716704485, 0.9773230243583403, 0.18969175713252195, 0.8536129070963488, 0.8550091599619724, 0.19000203554710499, 0.379558546978675, 0.6325975782977917, 0.9692606532987559, 0.05701533254698564, 0.9882528129838619, 0.07601944715260477, 0.10115471169660287, 0.8851037273452751, 0.912207991336496, 0.06693085712533904, 0.9370319997547467, 0.9481799555426625, 0.9370012268601299, 0.9977001381110279, 0.05689195411121685, 0.9481992351869475, 0.8868413408394434, 0.1266916201199205, 0.983038236670948, 0.03932152946683792, 0.9328564843290337, 0.10365072048100374, 0.020686290367849886, 0.9722556472889445, 0.0517174365961635, 0.9826312953271065, 0.7073281076117204, 0.3143680478274313, 0.9309658158562836, 0.9812034433899971, 0.026519011983513436, 0.06693122996593216, 0.9370372195230502, 0.9621408365599675, 0.03563484579851731, 0.9102749566253512, 0.059886435745471325, 0.9581829719275412, 0.9774202494046139, 0.040725843725192244, 0.9976955391317587, 0.9977906353026739, 0.03563537983223835, 0.6456706104964329, 0.34182561732164096, 0.049467712028977276, 0.9893542405795456, 0.9977614336794297, 0.9773151827591665, 0.9830384846000296, 0.03932153938400119, 0.9671012435455425, 0.979705936612388, 0.9309593098645436, 0.9501558546781519, 0.5541795713884664, 0.46181630949038865, 0.9102787518218367, 0.9954876094572593, 0.3524274482001074, 0.6506352889848137, 0.9102795719607936, 0.9752617717940824, 0.9501558363001255, 0.0711134272232119, 0.9244745539017547, 0.029172380784747123, 0.9918609466814021, 0.9102793009065377, 0.9773911269263239, 0.9121947491003468, 0.11402434363754335, 0.5406188300275168, 0.4440797532368888, 0.64884840070825, 0.34816255647759753], \"Term\": [\"able\", \"able\", \"accomplish\", \"accomplish\", \"additional\", \"additional\", \"allow\", \"allow\", \"anytime\", \"anywhere\", \"available\", \"available\", \"basic\", \"best\", \"best\", \"better\", \"better\", \"certain\", \"certain\", \"clear\", \"clear\", \"cloud\", \"cloud\", \"comfortable\", \"complete\", \"complete\", \"complex\", \"complex\", \"costeffective\", \"costly\", \"desktop\", \"desktop\", \"different\", \"different\", \"difficult\", \"difficult\", \"due\", \"due\", \"easier\", \"easier\", \"easy\", \"easy\", \"efficient\", \"efficient\", \"enable\", \"enable\", \"enhanced\", \"extensive\", \"familiar\", \"familiar\", \"fewer\", \"flexible\", \"greater\", \"greater\", \"helpful\", \"helpful\", \"high\", \"high\", \"ideal\", \"important\", \"important\", \"increased\", \"increased\", \"individual\", \"individual\", \"interact\", \"interact\", \"internet\", \"internet\", \"intuitive\", \"intuitive\", \"latest\", \"lead\", \"lead\", \"learn\", \"level\", \"malicious\", \"many\", \"many\", \"mean\", \"mean\", \"multiple\", \"multiple\", \"need\", \"need\", \"new\", \"new\", \"operate\", \"operate\", \"overall\", \"overall\", \"particular\", \"physical\", \"physical\", \"possible\", \"possible\", \"productive\", \"productive\", \"proficient\", \"prohibitive\", \"prohibitive\", \"provide\", \"provide\", \"regardless\", \"reliable\", \"reliable\", \"remote\", \"remote\", \"right\", \"right\", \"safe\", \"scale\", \"secure\", \"secure\", \"significant\", \"skillful\", \"slow\", \"solution\", \"specific\", \"specific\", \"steep\", \"technical\", \"traditional\", \"traditional\", \"troubleshoot\", \"tutorial\", \"unauthorized\", \"understand\", \"understand\", \"understandable\", \"understandable\", \"understanding\", \"update\", \"upgrade\", \"upgrade\", \"users\\u2019\", \"users\\u2019\", \"virtual\", \"virtual\"]}, \"R\": 30, \"lambda.step\": 0.01, \"plot.opts\": {\"xlab\": \"PC1\", \"ylab\": \"PC2\"}, \"topic.order\": [1, 2]};\n",
       "\n",
       "function LDAvis_load_lib(url, callback){\n",
       "  var s = document.createElement('script');\n",
       "  s.src = url;\n",
       "  s.async = true;\n",
       "  s.onreadystatechange = s.onload = callback;\n",
       "  s.onerror = function(){console.warn(\"failed to load library \" + url);};\n",
       "  document.getElementsByTagName(\"head\")[0].appendChild(s);\n",
       "}\n",
       "\n",
       "if(typeof(LDAvis) !== \"undefined\"){\n",
       "   // already loaded: just create the visualization\n",
       "   !function(LDAvis){\n",
       "       new LDAvis(\"#\" + \"ldavis_el1443223348000118721592789953\", ldavis_el1443223348000118721592789953_data);\n",
       "   }(LDAvis);\n",
       "}else if(typeof define === \"function\" && define.amd){\n",
       "   // require.js is available: use it to load d3/LDAvis\n",
       "   require.config({paths: {d3: \"https://d3js.org/d3.v5\"}});\n",
       "   require([\"d3\"], function(d3){\n",
       "      window.d3 = d3;\n",
       "      LDAvis_load_lib(\"https://cdn.jsdelivr.net/gh/bmabey/pyLDAvis@3.4.0/pyLDAvis/js/ldavis.v3.0.0.js\", function(){\n",
       "        new LDAvis(\"#\" + \"ldavis_el1443223348000118721592789953\", ldavis_el1443223348000118721592789953_data);\n",
       "      });\n",
       "    });\n",
       "}else{\n",
       "    // require.js not available: dynamically load d3 & LDAvis\n",
       "    LDAvis_load_lib(\"https://d3js.org/d3.v5.js\", function(){\n",
       "         LDAvis_load_lib(\"https://cdn.jsdelivr.net/gh/bmabey/pyLDAvis@3.4.0/pyLDAvis/js/ldavis.v3.0.0.js\", function(){\n",
       "                 new LDAvis(\"#\" + \"ldavis_el1443223348000118721592789953\", ldavis_el1443223348000118721592789953_data);\n",
       "            })\n",
       "         });\n",
       "}\n",
       "</script>"
      ],
      "text/plain": [
       "<IPython.core.display.HTML object>"
      ]
     },
     "execution_count": 115,
     "metadata": {},
     "output_type": "execute_result"
    }
   ],
   "source": [
    "lda_display = pyLDAvis.gensim.prepare(ldamodel, doc_term_matrix, dictionary, sort_topics=False, mds='mmds')\n",
    "pyLDAvis.display(lda_display)"
   ]
  },
  {
   "cell_type": "markdown",
   "metadata": {},
   "source": [
    "**Find which articles were marked in which cluster**"
   ]
  },
  {
   "cell_type": "code",
   "execution_count": 68,
   "metadata": {},
   "outputs": [],
   "source": [
    "# Assigns the topics to the documents in corpus\n",
    "lda_corpus = ldamodel[doc_term_matrix]"
   ]
  },
  {
   "cell_type": "code",
   "execution_count": 69,
   "metadata": {},
   "outputs": [
    {
     "data": {
      "text/plain": [
       "[[(0, 0.04089914), (1, 0.9591008)],\n",
       " [(0, 0.009014287), (1, 0.99098575)],\n",
       " [(0, 0.008934821), (1, 0.9910652)],\n",
       " [(0, 0.012045404), (1, 0.9879546)],\n",
       " [(0, 0.011355726), (1, 0.9886443)],\n",
       " [(0, 0.011798169), (1, 0.98820186)],\n",
       " [(0, 0.65377575), (1, 0.34622428)],\n",
       " [(0, 0.48243216), (1, 0.5175678)],\n",
       " [(0, 0.938398), (1, 0.061602015)],\n",
       " [(0, 0.016748147), (1, 0.98325187)],\n",
       " [(0, 0.12746057), (1, 0.8725394)],\n",
       " [(0, 0.020616125), (1, 0.9793839)],\n",
       " [(0, 0.98114884), (1, 0.018851139)],\n",
       " [(0, 0.54305315), (1, 0.45694685)],\n",
       " [(0, 0.98714966), (1, 0.012850357)],\n",
       " [(0, 0.7888663), (1, 0.21113373)],\n",
       " [(0, 0.8009622), (1, 0.19903775)],\n",
       " [(0, 0.6708548), (1, 0.3291452)],\n",
       " [(0, 0.98642844), (1, 0.013571532)],\n",
       " [(0, 0.98271364), (1, 0.01728633)],\n",
       " [(0, 0.9842564), (1, 0.015743606)],\n",
       " [(0, 0.40375206), (1, 0.596248)],\n",
       " [(0, 0.8888106), (1, 0.11118944)],\n",
       " [(0, 0.98494625), (1, 0.015053786)],\n",
       " [(0, 0.97707), (1, 0.022929998)],\n",
       " [(0, 0.2572855), (1, 0.74271446)],\n",
       " [(0, 0.82612073), (1, 0.1738793)],\n",
       " [(0, 0.6331895), (1, 0.36681053)],\n",
       " [(0, 0.9856299), (1, 0.014370082)],\n",
       " [(0, 0.6985954), (1, 0.3014046)],\n",
       " [(0, 0.9823997), (1, 0.017600242)],\n",
       " [(0, 0.9804815), (1, 0.019518508)],\n",
       " [(0, 0.9505581), (1, 0.049441934)],\n",
       " [(0, 0.7206804), (1, 0.2793196)],\n",
       " [(0, 0.98646796), (1, 0.013531993)],\n",
       " [(0, 0.9838744), (1, 0.016125573)],\n",
       " [(0, 0.01208293), (1, 0.98791707)],\n",
       " [(0, 0.0102261), (1, 0.98977387)],\n",
       " [(0, 0.029775972), (1, 0.970224)],\n",
       " [(0, 0.014422529), (1, 0.98557746)],\n",
       " [(0, 0.009786624), (1, 0.99021333)],\n",
       " [(0, 0.014472321), (1, 0.9855277)],\n",
       " [(0, 0.34238303), (1, 0.6576169)],\n",
       " [(0, 0.6115714), (1, 0.38842866)],\n",
       " [(0, 0.38171092), (1, 0.6182891)],\n",
       " [(0, 0.12288081), (1, 0.8771192)],\n",
       " [(0, 0.59139556), (1, 0.4086045)],\n",
       " [(0, 0.041456807), (1, 0.9585432)],\n",
       " [(0, 0.01124853), (1, 0.98875153)],\n",
       " [(0, 0.010729489), (1, 0.9892705)],\n",
       " [(0, 0.008344245), (1, 0.99165577)],\n",
       " [(0, 0.030640012), (1, 0.96935993)],\n",
       " [(0, 0.023936778), (1, 0.9760632)],\n",
       " [(0, 0.010129643), (1, 0.98987037)],\n",
       " [(0, 0.6496514), (1, 0.35034865)],\n",
       " [(0, 0.013245479), (1, 0.9867545)],\n",
       " [(0, 0.24221836), (1, 0.7577816)],\n",
       " [(0, 0.018902967), (1, 0.98109704)],\n",
       " [(0, 0.64168537), (1, 0.35831466)],\n",
       " [(0, 0.04745001), (1, 0.95255)],\n",
       " [(0, 0.7752893), (1, 0.2247107)],\n",
       " [(0, 0.7287637), (1, 0.27123633)],\n",
       " [(0, 0.7679918), (1, 0.2320082)],\n",
       " [(0, 0.67333835), (1, 0.32666165)],\n",
       " [(0, 0.6732248), (1, 0.3267752)],\n",
       " [(0, 0.9373792), (1, 0.062620856)],\n",
       " [(0, 0.98373556), (1, 0.016264467)],\n",
       " [(0, 0.98157406), (1, 0.01842591)],\n",
       " [(0, 0.98665035), (1, 0.013349676)],\n",
       " [(0, 0.8453923), (1, 0.15460774)],\n",
       " [(0, 0.9833217), (1, 0.016678276)],\n",
       " [(0, 0.6150607), (1, 0.38493928)],\n",
       " [(0, 0.014216762), (1, 0.9857833)],\n",
       " [(0, 0.010297834), (1, 0.98970217)],\n",
       " [(0, 0.08830454), (1, 0.9116954)],\n",
       " [(0, 0.008837369), (1, 0.99116266)],\n",
       " [(0, 0.02612207), (1, 0.9738779)],\n",
       " [(0, 0.008497367), (1, 0.9915026)],\n",
       " [(0, 0.98753947), (1, 0.012460532)],\n",
       " [(0, 0.01564511), (1, 0.9843549)],\n",
       " [(0, 0.4504353), (1, 0.5495647)],\n",
       " [(0, 0.011241925), (1, 0.9887581)],\n",
       " [(0, 0.96980333), (1, 0.030196691)],\n",
       " [(0, 0.18782958), (1, 0.81217045)],\n",
       " [(0, 0.96196306), (1, 0.038036946)],\n",
       " [(0, 0.55609995), (1, 0.44390008)],\n",
       " [(0, 0.9868022), (1, 0.013197799)],\n",
       " [(0, 0.8873592), (1, 0.1126408)],\n",
       " [(0, 0.6350247), (1, 0.3649753)],\n",
       " [(0, 0.8142646), (1, 0.18573542)],\n",
       " [(0, 0.98352504), (1, 0.016474957)],\n",
       " [(0, 0.9818578), (1, 0.018142207)],\n",
       " [(0, 0.97866285), (1, 0.021337118)],\n",
       " [(0, 0.3572229), (1, 0.64277714)],\n",
       " [(0, 0.9163191), (1, 0.08368093)],\n",
       " [(0, 0.9202019), (1, 0.07979814)],\n",
       " [(0, 0.0112812165), (1, 0.9887188)],\n",
       " [(0, 0.12530713), (1, 0.8746929)],\n",
       " [(0, 0.012814365), (1, 0.98718566)],\n",
       " [(0, 0.02620719), (1, 0.9737928)],\n",
       " [(0, 0.008723779), (1, 0.9912762)],\n",
       " [(0, 0.024596365), (1, 0.9754036)],\n",
       " [(0, 0.989343), (1, 0.010656992)],\n",
       " [(0, 0.988582), (1, 0.0114179775)],\n",
       " [(0, 0.9791225), (1, 0.02087743)],\n",
       " [(0, 0.14519347), (1, 0.8548065)],\n",
       " [(0, 0.66904134), (1, 0.33095863)],\n",
       " [(0, 0.014374241), (1, 0.98562574)],\n",
       " [(0, 0.009938649), (1, 0.99006134)],\n",
       " [(0, 0.0074741077), (1, 0.99252594)],\n",
       " [(0, 0.00959218), (1, 0.9904079)],\n",
       " [(0, 0.006572916), (1, 0.99342704)],\n",
       " [(0, 0.009778463), (1, 0.9902215)],\n",
       " [(0, 0.011505796), (1, 0.9884942)],\n",
       " [(0, 0.6033075), (1, 0.39669245)],\n",
       " [(0, 0.010512564), (1, 0.9894874)],\n",
       " [(0, 0.40760967), (1, 0.5923903)],\n",
       " [(0, 0.05462714), (1, 0.9453728)],\n",
       " [(0, 0.5891991), (1, 0.41080087)],\n",
       " [(0, 0.032612067), (1, 0.9673879)],\n",
       " [(0, 0.88698375), (1, 0.113016196)],\n",
       " [(0, 0.93312997), (1, 0.06687)],\n",
       " [(0, 0.98689276), (1, 0.013107306)],\n",
       " [(0, 0.9156759), (1, 0.084324144)],\n",
       " [(0, 0.9865034), (1, 0.013496561)],\n",
       " [(0, 0.7984143), (1, 0.20158565)],\n",
       " [(0, 0.9800851), (1, 0.019914974)],\n",
       " [(0, 0.97916716), (1, 0.020832807)],\n",
       " [(0, 0.8701977), (1, 0.12980226)],\n",
       " [(0, 0.7244774), (1, 0.27552256)],\n",
       " [(0, 0.984738), (1, 0.015262022)],\n",
       " [(0, 0.7585439), (1, 0.2414561)],\n",
       " [(0, 0.954554), (1, 0.045445934)],\n",
       " [(0, 0.5469273), (1, 0.45307273)],\n",
       " [(0, 0.70908934), (1, 0.29091063)],\n",
       " [(0, 0.34476924), (1, 0.65523076)],\n",
       " [(0, 0.6441671), (1, 0.35583282)],\n",
       " [(0, 0.4654135), (1, 0.5345864)],\n",
       " [(0, 0.98891264), (1, 0.011087356)],\n",
       " [(0, 0.98429465), (1, 0.01570531)],\n",
       " [(0, 0.8853632), (1, 0.11463679)],\n",
       " [(0, 0.9368008), (1, 0.06319925)],\n",
       " [(0, 0.9844039), (1, 0.015596075)],\n",
       " [(0, 0.9821747), (1, 0.017825274)],\n",
       " [(0, 0.0147513915), (1, 0.9852486)],\n",
       " [(0, 0.007838938), (1, 0.99216104)],\n",
       " [(0, 0.012510307), (1, 0.9874897)],\n",
       " [(0, 0.010091784), (1, 0.9899082)],\n",
       " [(0, 0.012471115), (1, 0.98752886)],\n",
       " [(0, 0.010613497), (1, 0.9893865)],\n",
       " [(0, 0.94459707), (1, 0.055402953)],\n",
       " [(0, 0.1483272), (1, 0.8516728)],\n",
       " [(0, 0.13091843), (1, 0.86908156)],\n",
       " [(0, 0.0132694235), (1, 0.9867306)],\n",
       " [(0, 0.5485071), (1, 0.45149294)],\n",
       " [(0, 0.014345596), (1, 0.9856545)],\n",
       " [(0, 0.49232456), (1, 0.50767547)],\n",
       " [(0, 0.53509694), (1, 0.46490306)],\n",
       " [(0, 0.98246163), (1, 0.01753838)],\n",
       " [(0, 0.2856528), (1, 0.71434724)],\n",
       " [(0, 0.907246), (1, 0.092754066)],\n",
       " [(0, 0.31646463), (1, 0.68353534)],\n",
       " [(0, 0.9896328), (1, 0.0103672)],\n",
       " [(0, 0.9850942), (1, 0.014905833)],\n",
       " [(0, 0.9555616), (1, 0.04443845)],\n",
       " [(0, 0.33464262), (1, 0.6653574)],\n",
       " [(0, 0.9771888), (1, 0.022811133)],\n",
       " [(0, 0.9583126), (1, 0.041687425)],\n",
       " [(0, 0.36420026), (1, 0.6357997)],\n",
       " [(0, 0.74574786), (1, 0.25425214)],\n",
       " [(0, 0.854666), (1, 0.14533404)],\n",
       " [(0, 0.66942465), (1, 0.33057535)],\n",
       " [(0, 0.6307601), (1, 0.36923987)],\n",
       " [(0, 0.5970141), (1, 0.40298587)],\n",
       " [(0, 0.9833571), (1, 0.016642934)],\n",
       " [(0, 0.98086244), (1, 0.019137524)],\n",
       " [(0, 0.9843785), (1, 0.015621445)],\n",
       " [(0, 0.97747636), (1, 0.022523707)],\n",
       " [(0, 0.9845066), (1, 0.015493422)],\n",
       " [(0, 0.72389585), (1, 0.2761042)],\n",
       " [(0, 0.98241055), (1, 0.01758944)],\n",
       " [(0, 0.9257971), (1, 0.07420287)],\n",
       " [(0, 0.98556846), (1, 0.014431577)],\n",
       " [(0, 0.7008276), (1, 0.2991724)],\n",
       " [(0, 0.828283), (1, 0.17171702)],\n",
       " [(0, 0.973975), (1, 0.026024949)],\n",
       " [(0, 0.98706424), (1, 0.012935777)],\n",
       " [(0, 0.9850078), (1, 0.0149921905)],\n",
       " [(0, 0.98766387), (1, 0.012336178)],\n",
       " [(0, 0.19775037), (1, 0.8022496)],\n",
       " [(0, 0.9845802), (1, 0.01541976)],\n",
       " [(0, 0.9540237), (1, 0.04597626)],\n",
       " [(0, 0.014946256), (1, 0.9850537)],\n",
       " [(0, 0.009652637), (1, 0.9903473)],\n",
       " [(0, 0.009482566), (1, 0.9905174)],\n",
       " [(0, 0.008577225), (1, 0.99142283)],\n",
       " [(0, 0.011391224), (1, 0.9886088)],\n",
       " [(0, 0.008408951), (1, 0.99159104)],\n",
       " [(0, 0.8940646), (1, 0.10593541)],\n",
       " [(0, 0.061562415), (1, 0.9384376)],\n",
       " [(0, 0.5525306), (1, 0.44746938)],\n",
       " [(0, 0.044977497), (1, 0.9550225)],\n",
       " [(0, 0.65096176), (1, 0.34903827)],\n",
       " [(0, 0.070189394), (1, 0.92981064)],\n",
       " [(0, 0.9881517), (1, 0.011848244)],\n",
       " [(0, 0.018303337), (1, 0.98169667)],\n",
       " [(0, 0.051333524), (1, 0.9486665)],\n",
       " [(0, 0.01243686), (1, 0.98756313)],\n",
       " [(0, 0.0155704655), (1, 0.98442954)],\n",
       " [(0, 0.013526808), (1, 0.9864732)],\n",
       " [(0, 0.9884926), (1, 0.011507393)],\n",
       " [(0, 0.98803335), (1, 0.011966668)],\n",
       " [(0, 0.9844804), (1, 0.015519665)],\n",
       " [(0, 0.21544667), (1, 0.7845533)],\n",
       " [(0, 0.98461497), (1, 0.015385061)],\n",
       " [(0, 0.7963842), (1, 0.20361575)],\n",
       " [(0, 0.8411505), (1, 0.15884948)],\n",
       " [(0, 0.88809305), (1, 0.11190698)],\n",
       " [(0, 0.93880916), (1, 0.06119084)],\n",
       " [(0, 0.7550782), (1, 0.24492183)],\n",
       " [(0, 0.7680906), (1, 0.23190935)],\n",
       " [(0, 0.91495234), (1, 0.08504766)],\n",
       " [(0, 0.9876891), (1, 0.012310908)],\n",
       " [(0, 0.98163295), (1, 0.01836708)],\n",
       " [(0, 0.98537076), (1, 0.014629224)],\n",
       " [(0, 0.8359743), (1, 0.16402575)],\n",
       " [(0, 0.98692966), (1, 0.013070316)],\n",
       " [(0, 0.98637456), (1, 0.013625387)],\n",
       " [(0, 0.7748077), (1, 0.22519226)],\n",
       " [(0, 0.73001087), (1, 0.2699891)],\n",
       " [(0, 0.8988579), (1, 0.10114213)],\n",
       " [(0, 0.9831512), (1, 0.016848836)],\n",
       " [(0, 0.865831), (1, 0.13416895)],\n",
       " [(0, 0.9369072), (1, 0.06309282)],\n",
       " [(0, 0.987757), (1, 0.012242985)],\n",
       " [(0, 0.99097234), (1, 0.009027607)],\n",
       " [(0, 0.8340577), (1, 0.16594233)],\n",
       " [(0, 0.83362037), (1, 0.16637963)],\n",
       " [(0, 0.9839273), (1, 0.01607271)],\n",
       " [(0, 0.93049026), (1, 0.0695097)],\n",
       " [(0, 0.011597383), (1, 0.9884026)],\n",
       " [(0, 0.012227335), (1, 0.9877727)],\n",
       " [(0, 0.009392456), (1, 0.99060756)],\n",
       " [(0, 0.026433438), (1, 0.9735666)],\n",
       " [(0, 0.010431314), (1, 0.9895687)],\n",
       " [(0, 0.009081265), (1, 0.99091876)],\n",
       " [(0, 0.98693204), (1, 0.013067962)],\n",
       " [(0, 0.052444175), (1, 0.94755584)],\n",
       " [(0, 0.7444683), (1, 0.25553173)],\n",
       " [(0, 0.30952677), (1, 0.69047326)],\n",
       " [(0, 0.88002175), (1, 0.11997826)],\n",
       " [(0, 0.01971511), (1, 0.98028487)],\n",
       " [(0, 0.94497323), (1, 0.055026814)],\n",
       " [(0, 0.6550059), (1, 0.34499413)],\n",
       " [(0, 0.676013), (1, 0.323987)],\n",
       " [(0, 0.9718124), (1, 0.028187547)],\n",
       " [(0, 0.9529357), (1, 0.047064316)],\n",
       " [(0, 0.60114855), (1, 0.39885142)],\n",
       " [(0, 0.9855934), (1, 0.0144066475)],\n",
       " [(0, 0.895122), (1, 0.10487799)],\n",
       " [(0, 0.9855929), (1, 0.01440714)],\n",
       " [(0, 0.82850206), (1, 0.17149796)],\n",
       " [(0, 0.9329925), (1, 0.067007504)],\n",
       " [(0, 0.7212563), (1, 0.2787437)],\n",
       " [(0, 0.010213659), (1, 0.9897863)],\n",
       " [(0, 0.011358467), (1, 0.9886415)],\n",
       " [(0, 0.082758546), (1, 0.9172414)],\n",
       " [(0, 0.007793292), (1, 0.9922067)],\n",
       " [(0, 0.010808823), (1, 0.9891912)],\n",
       " [(0, 0.010393144), (1, 0.98960686)],\n",
       " [(0, 0.8557843), (1, 0.1442157)],\n",
       " [(0, 0.013561053), (1, 0.986439)],\n",
       " [(0, 0.21642877), (1, 0.78357124)],\n",
       " [(0, 0.016791938), (1, 0.9832081)],\n",
       " [(0, 0.85341364), (1, 0.14658633)],\n",
       " [(0, 0.18681403), (1, 0.81318593)],\n",
       " [(0, 0.036321), (1, 0.963679)],\n",
       " [(0, 0.009189425), (1, 0.9908106)],\n",
       " [(0, 0.13249971), (1, 0.8675003)],\n",
       " [(0, 0.009442325), (1, 0.9905577)],\n",
       " [(0, 0.01062011), (1, 0.9893799)],\n",
       " [(0, 0.012783802), (1, 0.9872162)],\n",
       " [(0, 0.8441549), (1, 0.15584508)],\n",
       " [(0, 0.015479324), (1, 0.9845207)],\n",
       " [(0, 0.1784164), (1, 0.82158357)],\n",
       " [(0, 0.015999857), (1, 0.98400015)],\n",
       " [(0, 0.9835236), (1, 0.016476367)],\n",
       " [(0, 0.020956501), (1, 0.9790435)],\n",
       " [(0, 0.9117682), (1, 0.08823186)],\n",
       " [(0, 0.86869365), (1, 0.13130638)],\n",
       " [(0, 0.98519075), (1, 0.014809275)],\n",
       " [(0, 0.7616582), (1, 0.23834187)],\n",
       " [(0, 0.74697065), (1, 0.25302938)],\n",
       " [(0, 0.61995554), (1, 0.3800445)],\n",
       " [(0, 0.9875638), (1, 0.012436258)],\n",
       " [(0, 0.9658481), (1, 0.03415195)],\n",
       " [(0, 0.98300076), (1, 0.016999213)],\n",
       " [(0, 0.8382008), (1, 0.16179922)],\n",
       " [(0, 0.98629284), (1, 0.013707172)],\n",
       " [(0, 0.9840654), (1, 0.015934633)],\n",
       " [(0, 0.013529444), (1, 0.9864705)],\n",
       " [(0, 0.008881173), (1, 0.9911188)],\n",
       " [(0, 0.009766179), (1, 0.99023384)],\n",
       " [(0, 0.008156684), (1, 0.9918433)],\n",
       " [(0, 0.014216047), (1, 0.985784)],\n",
       " [(0, 0.008590095), (1, 0.99140996)],\n",
       " [(0, 0.9884572), (1, 0.011542814)],\n",
       " [(0, 0.02230548), (1, 0.9776945)],\n",
       " [(0, 0.5117813), (1, 0.48821875)],\n",
       " [(0, 0.012020425), (1, 0.98797953)],\n",
       " [(0, 0.7119079), (1, 0.28809208)],\n",
       " [(0, 0.17360936), (1, 0.8263906)],\n",
       " [(0, 0.012199526), (1, 0.9878005)],\n",
       " [(0, 0.008861303), (1, 0.99113876)],\n",
       " [(0, 0.011552752), (1, 0.98844725)],\n",
       " [(0, 0.011404824), (1, 0.9885951)],\n",
       " [(0, 0.031684674), (1, 0.9683153)],\n",
       " [(0, 0.045848824), (1, 0.95415115)],\n",
       " [(0, 0.27667657), (1, 0.72332346)],\n",
       " [(0, 0.009785347), (1, 0.99021465)],\n",
       " [(0, 0.9367243), (1, 0.063275665)],\n",
       " [(0, 0.01121067), (1, 0.9887894)],\n",
       " [(0, 0.87657106), (1, 0.123429)],\n",
       " [(0, 0.01655992), (1, 0.9834401)],\n",
       " [(0, 0.936833), (1, 0.06316702)],\n",
       " [(0, 0.6506494), (1, 0.34935057)],\n",
       " [(0, 0.9860918), (1, 0.013908234)],\n",
       " [(0, 0.9361794), (1, 0.063820615)],\n",
       " [(0, 0.8585891), (1, 0.14141093)],\n",
       " [(0, 0.70466715), (1, 0.29533288)],\n",
       " [(0, 0.9854827), (1, 0.014517325)],\n",
       " [(0, 0.9619936), (1, 0.03800643)],\n",
       " [(0, 0.98431003), (1, 0.01569004)],\n",
       " [(0, 0.49457836), (1, 0.50542164)],\n",
       " [(0, 0.91767174), (1, 0.08232826)],\n",
       " [(0, 0.98142433), (1, 0.018575687)],\n",
       " [(0, 0.8895585), (1, 0.11044155)],\n",
       " [(0, 0.5412897), (1, 0.45871025)],\n",
       " [(0, 0.86885864), (1, 0.13114133)],\n",
       " [(0, 0.91510564), (1, 0.08489436)],\n",
       " [(0, 0.008837213), (1, 0.9911627)],\n",
       " [(0, 0.011547783), (1, 0.98845226)],\n",
       " [(0, 0.98395216), (1, 0.016047888)],\n",
       " [(0, 0.5509681), (1, 0.44903186)],\n",
       " [(0, 0.98603), (1, 0.013970004)],\n",
       " [(0, 0.1672694), (1, 0.83273065)],\n",
       " [(0, 0.79017544), (1, 0.20982456)],\n",
       " [(0, 0.8768921), (1, 0.1231079)],\n",
       " [(0, 0.011068389), (1, 0.9889316)],\n",
       " [(0, 0.008251806), (1, 0.99174815)],\n",
       " [(0, 0.028990038), (1, 0.97100997)],\n",
       " [(0, 0.011829759), (1, 0.9881702)],\n",
       " [(0, 0.01320822), (1, 0.9867918)],\n",
       " [(0, 0.011063055), (1, 0.98893696)],\n",
       " [(0, 0.6832964), (1, 0.3167036)],\n",
       " [(0, 0.041982535), (1, 0.95801747)],\n",
       " [(0, 0.84897375), (1, 0.15102631)],\n",
       " [(0, 0.019403603), (1, 0.9805964)],\n",
       " [(0, 0.5315304), (1, 0.4684696)],\n",
       " [(0, 0.15204279), (1, 0.8479572)],\n",
       " [(0, 0.62920016), (1, 0.37079984)],\n",
       " [(0, 0.9811836), (1, 0.018816378)],\n",
       " [(0, 0.78092456), (1, 0.21907543)],\n",
       " [(0, 0.9853538), (1, 0.0146462)],\n",
       " [(0, 0.4288383), (1, 0.5711617)],\n",
       " [(0, 0.8198805), (1, 0.18011954)],\n",
       " [(0, 0.98483926), (1, 0.015160761)],\n",
       " [(0, 0.97333616), (1, 0.02666386)],\n",
       " [(0, 0.9813653), (1, 0.018634675)],\n",
       " [(0, 0.54795325), (1, 0.45204678)],\n",
       " [(0, 0.98502195), (1, 0.014978053)],\n",
       " [(0, 0.97839034), (1, 0.021609714)],\n",
       " [(0, 0.014651882), (1, 0.9853481)],\n",
       " [(0, 0.01434142), (1, 0.9856586)],\n",
       " [(0, 0.7910701), (1, 0.20892988)],\n",
       " [(0, 0.010242292), (1, 0.9897577)],\n",
       " [(0, 0.05333724), (1, 0.9466628)],\n",
       " [(0, 0.009979823), (1, 0.99002016)],\n",
       " [(0, 0.98786974), (1, 0.0121303005)],\n",
       " [(0, 0.054488342), (1, 0.9455117)],\n",
       " [(0, 0.9013867), (1, 0.09861325)],\n",
       " [(0, 0.0116800405), (1, 0.98832)],\n",
       " [(0, 0.9874397), (1, 0.012560298)],\n",
       " [(0, 0.051903836), (1, 0.9480961)]]"
      ]
     },
     "execution_count": 69,
     "metadata": {},
     "output_type": "execute_result"
    }
   ],
   "source": [
    "[doc for doc in lda_corpus]"
   ]
  },
  {
   "cell_type": "code",
   "execution_count": 70,
   "metadata": {},
   "outputs": [
    {
     "name": "stdout",
     "output_type": "stream",
     "text": [
      "0.49999999893831654\n"
     ]
    }
   ],
   "source": [
    "scores = list(chain(*[[score for topic_id,score in topic] \\\n",
    "                      for topic in [doc for doc in lda_corpus]]))\n",
    "\n",
    "threshold = sum(scores)/len(scores)\n",
    "print(threshold)"
   ]
  },
  {
   "cell_type": "code",
   "execution_count": 72,
   "metadata": {},
   "outputs": [
    {
     "name": "stdout",
     "output_type": "stream",
     "text": [
      "220\n",
      "164\n"
     ]
    }
   ],
   "source": [
    "cluster1 = [j for i,j in zip(lda_corpus,df.index) if i[0][1] > threshold]\n",
    "cluster2 = [j for i,j in zip(lda_corpus,df.index) if i[1][1] > threshold]\n",
    "#cluster3 = [j for i,j in zip(lda_corpus,df.index) if i[2][1] > threshold]\n",
    "# cluster4 = [j for i,j in zip(lda_corpus,df.index) if i[3][1] > threshold]\n",
    "# cluster5 = [j for i,j in zip(lda_corpus,df.index) if i[4][1] > threshold]\n",
    "\n",
    "print(len(cluster1))\n",
    "print(len(cluster2))\n",
    "#print(len(cluster3))\n",
    "# print(len(cluster4))\n",
    "# print(len(cluster5))"
   ]
  },
  {
   "cell_type": "code",
   "execution_count": 73,
   "metadata": {},
   "outputs": [
    {
     "data": {
      "text/html": [
       "<div>\n",
       "<style scoped>\n",
       "    .dataframe tbody tr th:only-of-type {\n",
       "        vertical-align: middle;\n",
       "    }\n",
       "\n",
       "    .dataframe tbody tr th {\n",
       "        vertical-align: top;\n",
       "    }\n",
       "\n",
       "    .dataframe thead th {\n",
       "        text-align: right;\n",
       "    }\n",
       "</style>\n",
       "<table border=\"1\" class=\"dataframe\">\n",
       "  <thead>\n",
       "    <tr style=\"text-align: right;\">\n",
       "      <th></th>\n",
       "      <th>text</th>\n",
       "      <th>text_clean</th>\n",
       "    </tr>\n",
       "  </thead>\n",
       "  <tbody>\n",
       "    <tr>\n",
       "      <th>6</th>\n",
       "      <td>Learning how to operate DaaS and VDI can be qu...</td>\n",
       "      <td>[learning, operate, daas, vdi, quite, easy, po...</td>\n",
       "    </tr>\n",
       "    <tr>\n",
       "      <th>8</th>\n",
       "      <td>Yes, the PO users’ interaction with DaaS and V...</td>\n",
       "      <td>[yes, po, users’, interaction, daas, vdi, clea...</td>\n",
       "    </tr>\n",
       "    <tr>\n",
       "      <th>12</th>\n",
       "      <td>No, DaaS and VDI in the PO job do not enable P...</td>\n",
       "      <td>[no, daas, vdi, po, job, enable, po, user, acc...</td>\n",
       "    </tr>\n",
       "    <tr>\n",
       "      <th>13</th>\n",
       "      <td>No, using DaaS and VDI does not necessarily im...</td>\n",
       "      <td>[no, using, daas, vdi, necessarily, improve, p...</td>\n",
       "    </tr>\n",
       "    <tr>\n",
       "      <th>14</th>\n",
       "      <td>Using the DaaS and VDI in the PO job may not n...</td>\n",
       "      <td>[using, daas, vdi, po, job, may, necessarily, ...</td>\n",
       "    </tr>\n",
       "    <tr>\n",
       "      <th>...</th>\n",
       "      <td>...</td>\n",
       "      <td>...</td>\n",
       "    </tr>\n",
       "    <tr>\n",
       "      <th>371</th>\n",
       "      <td>No, PO users do not find DaaS and VDI easy to ...</td>\n",
       "      <td>[no, po, user, find, daas, vdi, easy, use, com...</td>\n",
       "    </tr>\n",
       "    <tr>\n",
       "      <th>374</th>\n",
       "      <td>The answer to your question of whether using D...</td>\n",
       "      <td>[answer, question, whether, using, daas, vdi, ...</td>\n",
       "    </tr>\n",
       "    <tr>\n",
       "      <th>378</th>\n",
       "      <td>It is possible for PO users to learn how to op...</td>\n",
       "      <td>[possible, po, user, learn, operate, daas, vdi...</td>\n",
       "    </tr>\n",
       "    <tr>\n",
       "      <th>380</th>\n",
       "      <td>Yes, PO users' interaction with DaaS and VDI i...</td>\n",
       "      <td>[yes, po, user, interaction, daas, vdi, genera...</td>\n",
       "    </tr>\n",
       "    <tr>\n",
       "      <th>382</th>\n",
       "      <td>It is possible for PO users to become skillful...</td>\n",
       "      <td>[possible, po, user, become, skillful, using, ...</td>\n",
       "    </tr>\n",
       "  </tbody>\n",
       "</table>\n",
       "<p>220 rows × 2 columns</p>\n",
       "</div>"
      ],
      "text/plain": [
       "                                                  text  \\\n",
       "6    Learning how to operate DaaS and VDI can be qu...   \n",
       "8    Yes, the PO users’ interaction with DaaS and V...   \n",
       "12   No, DaaS and VDI in the PO job do not enable P...   \n",
       "13   No, using DaaS and VDI does not necessarily im...   \n",
       "14   Using the DaaS and VDI in the PO job may not n...   \n",
       "..                                                 ...   \n",
       "371  No, PO users do not find DaaS and VDI easy to ...   \n",
       "374  The answer to your question of whether using D...   \n",
       "378  It is possible for PO users to learn how to op...   \n",
       "380  Yes, PO users' interaction with DaaS and VDI i...   \n",
       "382  It is possible for PO users to become skillful...   \n",
       "\n",
       "                                            text_clean  \n",
       "6    [learning, operate, daas, vdi, quite, easy, po...  \n",
       "8    [yes, po, users’, interaction, daas, vdi, clea...  \n",
       "12   [no, daas, vdi, po, job, enable, po, user, acc...  \n",
       "13   [no, using, daas, vdi, necessarily, improve, p...  \n",
       "14   [using, daas, vdi, po, job, may, necessarily, ...  \n",
       "..                                                 ...  \n",
       "371  [no, po, user, find, daas, vdi, easy, use, com...  \n",
       "374  [answer, question, whether, using, daas, vdi, ...  \n",
       "378  [possible, po, user, learn, operate, daas, vdi...  \n",
       "380  [yes, po, user, interaction, daas, vdi, genera...  \n",
       "382  [possible, po, user, become, skillful, using, ...  \n",
       "\n",
       "[220 rows x 2 columns]"
      ]
     },
     "execution_count": 73,
     "metadata": {},
     "output_type": "execute_result"
    }
   ],
   "source": [
    "df.iloc[cluster1]"
   ]
  },
  {
   "cell_type": "code",
   "execution_count": 74,
   "metadata": {},
   "outputs": [
    {
     "data": {
      "text/html": [
       "<div>\n",
       "<style scoped>\n",
       "    .dataframe tbody tr th:only-of-type {\n",
       "        vertical-align: middle;\n",
       "    }\n",
       "\n",
       "    .dataframe tbody tr th {\n",
       "        vertical-align: top;\n",
       "    }\n",
       "\n",
       "    .dataframe thead th {\n",
       "        text-align: right;\n",
       "    }\n",
       "</style>\n",
       "<table border=\"1\" class=\"dataframe\">\n",
       "  <thead>\n",
       "    <tr style=\"text-align: right;\">\n",
       "      <th></th>\n",
       "      <th>text</th>\n",
       "      <th>text_clean</th>\n",
       "    </tr>\n",
       "  </thead>\n",
       "  <tbody>\n",
       "    <tr>\n",
       "      <th>0</th>\n",
       "      <td>Yes, the implementation of DaaS and VDI in the...</td>\n",
       "      <td>[yes, implementation, daas, vdi, po, job, enab...</td>\n",
       "    </tr>\n",
       "    <tr>\n",
       "      <th>1</th>\n",
       "      <td>Yes, using DaaS and VDI can improve PO users' ...</td>\n",
       "      <td>[yes, using, daas, vdi, improve, po, user, job...</td>\n",
       "    </tr>\n",
       "    <tr>\n",
       "      <th>2</th>\n",
       "      <td>Yes, using the DaaS and VDI in the PO job defi...</td>\n",
       "      <td>[yes, using, daas, vdi, po, job, definitely, i...</td>\n",
       "    </tr>\n",
       "    <tr>\n",
       "      <th>3</th>\n",
       "      <td>Yes, using the DaaS and VDI can enhance PO use...</td>\n",
       "      <td>[yes, using, daas, vdi, enhance, po, users’, e...</td>\n",
       "    </tr>\n",
       "    <tr>\n",
       "      <th>4</th>\n",
       "      <td>Using DaaS and VDI can make it easier for PO u...</td>\n",
       "      <td>[using, daas, vdi, make, easier, po, user, job...</td>\n",
       "    </tr>\n",
       "    <tr>\n",
       "      <th>...</th>\n",
       "      <td>...</td>\n",
       "      <td>...</td>\n",
       "    </tr>\n",
       "    <tr>\n",
       "      <th>376</th>\n",
       "      <td>Yes, using DaaS and VDI can make it easier to ...</td>\n",
       "      <td>[yes, using, daas, vdi, make, easier, po, user...</td>\n",
       "    </tr>\n",
       "    <tr>\n",
       "      <th>377</th>\n",
       "      <td>Yes, PO users can find DaaS and VDI helpful in...</td>\n",
       "      <td>[yes, po, user, find, daas, vdi, helpful, job,...</td>\n",
       "    </tr>\n",
       "    <tr>\n",
       "      <th>379</th>\n",
       "      <td>Generally, PO users find it relatively easy to...</td>\n",
       "      <td>[generally, po, user, find, relatively, easy, ...</td>\n",
       "    </tr>\n",
       "    <tr>\n",
       "      <th>381</th>\n",
       "      <td>Yes, PO employees find DaaS and VDI flexible t...</td>\n",
       "      <td>[yes, po, employee, find, daas, vdi, flexible,...</td>\n",
       "    </tr>\n",
       "    <tr>\n",
       "      <th>383</th>\n",
       "      <td>Yes, PO (Point of Sale) users can find DaaS (...</td>\n",
       "      <td>[yes, po, point, sale, user, find, daas, deskt...</td>\n",
       "    </tr>\n",
       "  </tbody>\n",
       "</table>\n",
       "<p>164 rows × 2 columns</p>\n",
       "</div>"
      ],
      "text/plain": [
       "                                                  text  \\\n",
       "0    Yes, the implementation of DaaS and VDI in the...   \n",
       "1    Yes, using DaaS and VDI can improve PO users' ...   \n",
       "2    Yes, using the DaaS and VDI in the PO job defi...   \n",
       "3    Yes, using the DaaS and VDI can enhance PO use...   \n",
       "4    Using DaaS and VDI can make it easier for PO u...   \n",
       "..                                                 ...   \n",
       "376  Yes, using DaaS and VDI can make it easier to ...   \n",
       "377  Yes, PO users can find DaaS and VDI helpful in...   \n",
       "379  Generally, PO users find it relatively easy to...   \n",
       "381  Yes, PO employees find DaaS and VDI flexible t...   \n",
       "383   Yes, PO (Point of Sale) users can find DaaS (...   \n",
       "\n",
       "                                            text_clean  \n",
       "0    [yes, implementation, daas, vdi, po, job, enab...  \n",
       "1    [yes, using, daas, vdi, improve, po, user, job...  \n",
       "2    [yes, using, daas, vdi, po, job, definitely, i...  \n",
       "3    [yes, using, daas, vdi, enhance, po, users’, e...  \n",
       "4    [using, daas, vdi, make, easier, po, user, job...  \n",
       "..                                                 ...  \n",
       "376  [yes, using, daas, vdi, make, easier, po, user...  \n",
       "377  [yes, po, user, find, daas, vdi, helpful, job,...  \n",
       "379  [generally, po, user, find, relatively, easy, ...  \n",
       "381  [yes, po, employee, find, daas, vdi, flexible,...  \n",
       "383  [yes, po, point, sale, user, find, daas, deskt...  \n",
       "\n",
       "[164 rows x 2 columns]"
      ]
     },
     "execution_count": 74,
     "metadata": {},
     "output_type": "execute_result"
    }
   ],
   "source": [
    "df.iloc[cluster2]"
   ]
  },
  {
   "cell_type": "code",
   "execution_count": 63,
   "metadata": {},
   "outputs": [
    {
     "data": {
      "text/html": [
       "<div>\n",
       "<style scoped>\n",
       "    .dataframe tbody tr th:only-of-type {\n",
       "        vertical-align: middle;\n",
       "    }\n",
       "\n",
       "    .dataframe tbody tr th {\n",
       "        vertical-align: top;\n",
       "    }\n",
       "\n",
       "    .dataframe thead th {\n",
       "        text-align: right;\n",
       "    }\n",
       "</style>\n",
       "<table border=\"1\" class=\"dataframe\">\n",
       "  <thead>\n",
       "    <tr style=\"text-align: right;\">\n",
       "      <th></th>\n",
       "      <th>text</th>\n",
       "      <th>text_clean</th>\n",
       "    </tr>\n",
       "  </thead>\n",
       "  <tbody>\n",
       "    <tr>\n",
       "      <th>0</th>\n",
       "      <td>Yes, the implementation of DaaS and VDI in the...</td>\n",
       "      <td>[yes, implementation, daas, vdi, po, job, enab...</td>\n",
       "    </tr>\n",
       "    <tr>\n",
       "      <th>1</th>\n",
       "      <td>Yes, using DaaS and VDI can improve PO users' ...</td>\n",
       "      <td>[yes, using, daas, vdi, improve, po, user, job...</td>\n",
       "    </tr>\n",
       "    <tr>\n",
       "      <th>2</th>\n",
       "      <td>Yes, using the DaaS and VDI in the PO job defi...</td>\n",
       "      <td>[yes, using, daas, vdi, po, job, definitely, i...</td>\n",
       "    </tr>\n",
       "    <tr>\n",
       "      <th>3</th>\n",
       "      <td>Yes, using the DaaS and VDI can enhance PO use...</td>\n",
       "      <td>[yes, using, daas, vdi, enhance, po, users’, e...</td>\n",
       "    </tr>\n",
       "    <tr>\n",
       "      <th>4</th>\n",
       "      <td>Using DaaS and VDI can make it easier for PO u...</td>\n",
       "      <td>[using, daas, vdi, make, easier, po, user, job...</td>\n",
       "    </tr>\n",
       "    <tr>\n",
       "      <th>...</th>\n",
       "      <td>...</td>\n",
       "      <td>...</td>\n",
       "    </tr>\n",
       "    <tr>\n",
       "      <th>376</th>\n",
       "      <td>Yes, using DaaS and VDI can make it easier to ...</td>\n",
       "      <td>[yes, using, daas, vdi, make, easier, po, user...</td>\n",
       "    </tr>\n",
       "    <tr>\n",
       "      <th>377</th>\n",
       "      <td>Yes, PO users can find DaaS and VDI helpful in...</td>\n",
       "      <td>[yes, po, user, find, daas, vdi, helpful, job,...</td>\n",
       "    </tr>\n",
       "    <tr>\n",
       "      <th>379</th>\n",
       "      <td>Generally, PO users find it relatively easy to...</td>\n",
       "      <td>[generally, po, user, find, relatively, easy, ...</td>\n",
       "    </tr>\n",
       "    <tr>\n",
       "      <th>381</th>\n",
       "      <td>Yes, PO employees find DaaS and VDI flexible t...</td>\n",
       "      <td>[yes, po, employee, find, daas, vdi, flexible,...</td>\n",
       "    </tr>\n",
       "    <tr>\n",
       "      <th>383</th>\n",
       "      <td>Yes, PO (Point of Sale) users can find DaaS (...</td>\n",
       "      <td>[yes, po, point, sale, user, find, daas, deskt...</td>\n",
       "    </tr>\n",
       "  </tbody>\n",
       "</table>\n",
       "<p>182 rows × 2 columns</p>\n",
       "</div>"
      ],
      "text/plain": [
       "                                                  text  \\\n",
       "0    Yes, the implementation of DaaS and VDI in the...   \n",
       "1    Yes, using DaaS and VDI can improve PO users' ...   \n",
       "2    Yes, using the DaaS and VDI in the PO job defi...   \n",
       "3    Yes, using the DaaS and VDI can enhance PO use...   \n",
       "4    Using DaaS and VDI can make it easier for PO u...   \n",
       "..                                                 ...   \n",
       "376  Yes, using DaaS and VDI can make it easier to ...   \n",
       "377  Yes, PO users can find DaaS and VDI helpful in...   \n",
       "379  Generally, PO users find it relatively easy to...   \n",
       "381  Yes, PO employees find DaaS and VDI flexible t...   \n",
       "383   Yes, PO (Point of Sale) users can find DaaS (...   \n",
       "\n",
       "                                            text_clean  \n",
       "0    [yes, implementation, daas, vdi, po, job, enab...  \n",
       "1    [yes, using, daas, vdi, improve, po, user, job...  \n",
       "2    [yes, using, daas, vdi, po, job, definitely, i...  \n",
       "3    [yes, using, daas, vdi, enhance, po, users’, e...  \n",
       "4    [using, daas, vdi, make, easier, po, user, job...  \n",
       "..                                                 ...  \n",
       "376  [yes, using, daas, vdi, make, easier, po, user...  \n",
       "377  [yes, po, user, find, daas, vdi, helpful, job,...  \n",
       "379  [generally, po, user, find, relatively, easy, ...  \n",
       "381  [yes, po, employee, find, daas, vdi, flexible,...  \n",
       "383  [yes, po, point, sale, user, find, daas, deskt...  \n",
       "\n",
       "[182 rows x 2 columns]"
      ]
     },
     "execution_count": 63,
     "metadata": {},
     "output_type": "execute_result"
    }
   ],
   "source": [
    "df.iloc[cluster3]"
   ]
  },
  {
   "cell_type": "code",
   "execution_count": 64,
   "metadata": {},
   "outputs": [
    {
     "ename": "NameError",
     "evalue": "name 'cluster4' is not defined",
     "output_type": "error",
     "traceback": [
      "\u001b[1;31m---------------------------------------------------------------------------\u001b[0m",
      "\u001b[1;31mNameError\u001b[0m                                 Traceback (most recent call last)",
      "Cell \u001b[1;32mIn[64], line 1\u001b[0m\n\u001b[1;32m----> 1\u001b[0m df\u001b[39m.\u001b[39miloc[cluster4]\n",
      "\u001b[1;31mNameError\u001b[0m: name 'cluster4' is not defined"
     ]
    }
   ],
   "source": [
    "df.iloc[cluster4]"
   ]
  },
  {
   "cell_type": "code",
   "execution_count": null,
   "metadata": {},
   "outputs": [],
   "source": [
    "df.iloc[cluster5]"
   ]
  },
  {
   "cell_type": "code",
   "execution_count": 12,
   "metadata": {},
   "outputs": [
    {
     "name": "stderr",
     "output_type": "stream",
     "text": [
      "C:\\Users\\jahan\\AppData\\Local\\Temp\\ipykernel_3804\\1723084633.py:36: UserWarning: Tight layout not applied. The bottom and top margins cannot be made large enough to accommodate all axes decorations.\n",
      "  plt.tight_layout()\n"
     ]
    },
    {
     "data": {
      "image/png": "[encoded data removed]",
      "text/plain": [
       "<Figure size 1000x600 with 1 Axes>"
      ]
     },
     "metadata": {},
     "output_type": "display_data"
    }
   ],
   "source": [
    "import re\n",
    "import seaborn as sns\n",
    "import matplotlib.pyplot as plt\n",
    "\n",
    "def search_query(query, text):\n",
    "    # Perform case-insensitive search using regular expression\n",
    "    search_results = re.finditer(re.escape(query), text, re.IGNORECASE)\n",
    "\n",
    "    # Extract snippets of matching text with some context\n",
    "    preview_length = 100\n",
    "    results = []\n",
    "    for match in search_results:\n",
    "        start = max(0, match.start() - preview_length)\n",
    "        end = min(len(text), match.end() + preview_length)\n",
    "        preview = text[start:end]\n",
    "        results.append(preview)\n",
    "\n",
    "    return results\n",
    "\n",
    "# Example text for demonstration\n",
    "example_text = \"\"\"Python is an easy-to-learn, powerful programming language. It has efficient high-level data structures and a simple but effective approach to object-oriented programming. Python's elegant syntax and dynamic typing, together with its interpreted nature, make it an ideal language for scripting and rapid application development.\"\"\"\n",
    "\n",
    "# Take user input for the search query\n",
    "search_query_term = \"easy\"\n",
    "\n",
    "# Perform search and get preview results\n",
    "preview_results = search_query(search_query_term, example_text)\n",
    "\n",
    "# Create a bar plot using seaborn\n",
    "plt.figure(figsize=(10, 6))\n",
    "sns.barplot(x=preview_results, y=[1]*len(preview_results))\n",
    "plt.xlabel('Search Results Preview')\n",
    "plt.ylabel('Matches')\n",
    "plt.title(f'Search Query: {search_query_term}')\n",
    "plt.xticks(rotation=90)\n",
    "plt.tight_layout()\n",
    "plt.show()\n"
   ]
  },
  {
   "cell_type": "code",
   "execution_count": 11,
   "metadata": {},
   "outputs": [
    {
     "name": "stdout",
     "output_type": "stream",
     "text": [
      "Collecting seaborn\n",
      "  Downloading seaborn-0.12.2-py3-none-any.whl (293 kB)\n",
      "                                              0.0/293.3 kB ? eta -:--:--\n",
      "     -----                                 41.0/293.3 kB 991.0 kB/s eta 0:00:01\n",
      "     -------------------                    153.6/293.3 kB 1.8 MB/s eta 0:00:01\n",
      "     -------------------------------------  286.7/293.3 kB 2.2 MB/s eta 0:00:01\n",
      "     -------------------------------------- 293.3/293.3 kB 2.0 MB/s eta 0:00:00\n",
      "Requirement already satisfied: numpy!=1.24.0,>=1.17 in c:\\users\\jahan\\appdata\\local\\programs\\python\\python311\\lib\\site-packages (from seaborn) (1.25.1)\n",
      "Requirement already satisfied: pandas>=0.25 in c:\\users\\jahan\\appdata\\local\\programs\\python\\python311\\lib\\site-packages (from seaborn) (2.0.3)\n",
      "Requirement already satisfied: matplotlib!=3.6.1,>=3.1 in c:\\users\\jahan\\appdata\\local\\programs\\python\\python311\\lib\\site-packages (from seaborn) (3.7.2)\n",
      "Requirement already satisfied: contourpy>=1.0.1 in c:\\users\\jahan\\appdata\\local\\programs\\python\\python311\\lib\\site-packages (from matplotlib!=3.6.1,>=3.1->seaborn) (1.1.0)\n",
      "Requirement already satisfied: cycler>=0.10 in c:\\users\\jahan\\appdata\\local\\programs\\python\\python311\\lib\\site-packages (from matplotlib!=3.6.1,>=3.1->seaborn) (0.11.0)\n",
      "Requirement already satisfied: fonttools>=4.22.0 in c:\\users\\jahan\\appdata\\local\\programs\\python\\python311\\lib\\site-packages (from matplotlib!=3.6.1,>=3.1->seaborn) (4.41.1)\n",
      "Requirement already satisfied: kiwisolver>=1.0.1 in c:\\users\\jahan\\appdata\\local\\programs\\python\\python311\\lib\\site-packages (from matplotlib!=3.6.1,>=3.1->seaborn) (1.4.4)\n",
      "Requirement already satisfied: packaging>=20.0 in c:\\users\\jahan\\appdata\\roaming\\python\\python311\\site-packages (from matplotlib!=3.6.1,>=3.1->seaborn) (23.1)\n",
      "Requirement already satisfied: pillow>=6.2.0 in c:\\users\\jahan\\appdata\\local\\programs\\python\\python311\\lib\\site-packages (from matplotlib!=3.6.1,>=3.1->seaborn) (10.0.0)\n",
      "Requirement already satisfied: pyparsing<3.1,>=2.3.1 in c:\\users\\jahan\\appdata\\local\\programs\\python\\python311\\lib\\site-packages (from matplotlib!=3.6.1,>=3.1->seaborn) (3.0.9)\n",
      "Requirement already satisfied: python-dateutil>=2.7 in c:\\users\\jahan\\appdata\\roaming\\python\\python311\\site-packages (from matplotlib!=3.6.1,>=3.1->seaborn) (2.8.2)\n",
      "Requirement already satisfied: pytz>=2020.1 in c:\\users\\jahan\\appdata\\local\\programs\\python\\python311\\lib\\site-packages (from pandas>=0.25->seaborn) (2023.3)\n",
      "Requirement already satisfied: tzdata>=2022.1 in c:\\users\\jahan\\appdata\\local\\programs\\python\\python311\\lib\\site-packages (from pandas>=0.25->seaborn) (2023.3)\n",
      "Requirement already satisfied: six>=1.5 in c:\\users\\jahan\\appdata\\roaming\\python\\python311\\site-packages (from python-dateutil>=2.7->matplotlib!=3.6.1,>=3.1->seaborn) (1.16.0)\n",
      "Installing collected packages: seaborn\n",
      "Successfully installed seaborn-0.12.2\n",
      "Note: you may need to restart the kernel to use updated packages.\n"
     ]
    },
    {
     "name": "stderr",
     "output_type": "stream",
     "text": [
      "\n",
      "[notice] A new release of pip is available: 23.1.2 -> 23.2.1\n",
      "[notice] To update, run: python.exe -m pip install --upgrade pip\n"
     ]
    }
   ],
   "source": [
    "pip install seaborn"
   ]
  }
 ],
 "metadata": {
  "kernelspec": {
   "display_name": "Python 3",
   "language": "python",
   "name": "python3"
  },
  "language_info": {
   "codemirror_mode": {
    "name": "ipython",
    "version": 3
   },
   "file_extension": ".py",
   "mimetype": "text/x-python",
   "name": "python",
   "nbconvert_exporter": "python",
   "pygments_lexer": "ipython3",
   "version": "3.11.4"
  }
 },
 "nbformat": 4,
 "nbformat_minor": 4
}
